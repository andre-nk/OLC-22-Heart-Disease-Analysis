{
 "cells": [
  {
   "cell_type": "markdown",
   "metadata": {},
   "source": [
    "# **OLC '22: Heart Disease Analysis (Data Viz, EDA, and ML Model)**\n",
    "Written by: [Andreas Notokusumo](https://www.linkedin.com/in/andreasnk/) (18/7/2022) \\\n",
    "Source Data: [Heart Disease Datasets](https://www.kaggle.com/datasets/johnsmith88/heart-disease-dataset)\n",
    "\n",
    "---"
   ]
  },
  {
   "cell_type": "markdown",
   "metadata": {},
   "source": [
    "### **About dataset**\n",
    "This data set dates from 1988 and consists of four databases: Cleveland, Hungary, Switzerland, and Long Beach V. It contains 76 attributes, including the predicted attribute, but all published experiments refer to using a subset of 14 of them. The \"target\" field refers to the presence of heart disease in the patient. It is integer valued 0 = no disease and 1 = disease.\n",
    "\n",
    "<br>\n",
    "\n",
    "### **About the project**\n",
    "This project is developed as part of my OLC 2022's final project in Data Science. This project featured five main steps toward the dataset as described throughout this notebook, including:\n",
    "1. Project Setup and Dataset's Context\n",
    "2. EDA *(Exploratory Data Analysis)*\n",
    "3. Data Preprocessing\n",
    "4. ML Modelling\n",
    "5. ML Model Evaluation\n",
    "<br>\n",
    "\n",
    "The main goal of this project is to create a *ML Model* that could predict if a patient suffered a heart disease (indicated by `1`) or not (`0`). The ML Model is previously trained from a processed data from the original and raw dataset"
   ]
  },
  {
   "cell_type": "markdown",
   "metadata": {},
   "source": [
    "### **Step 1: Project Setup and Dataset's Context**\n",
    "#### 1. Imports"
   ]
  },
  {
   "cell_type": "code",
   "execution_count": 1,
   "metadata": {},
   "outputs": [],
   "source": [
    "# Libraries\n",
    "\n",
    "import numpy as np\n",
    "import pandas as pd\n",
    "import matplotlib.pyplot as plt\n",
    "import seaborn as sns\n",
    "\n",
    "# Seaborn Pastel Palette \n",
    "pastel = sns.color_palette('pastel')"
   ]
  },
  {
   "cell_type": "code",
   "execution_count": 2,
   "metadata": {},
   "outputs": [],
   "source": [
    "# Reading datasets\n",
    "heartData = pd.read_csv('./heart.csv')"
   ]
  },
  {
   "cell_type": "markdown",
   "metadata": {},
   "source": [
    "#### 2. Dataset's Context"
   ]
  },
  {
   "cell_type": "code",
   "execution_count": 3,
   "metadata": {},
   "outputs": [
    {
     "name": "stdout",
     "output_type": "stream",
     "text": [
      "   age  sex  cp  trestbps  chol  fbs  restecg  thalach  exang  oldpeak  slope  \\\n",
      "0   52    1   0       125   212    0        1      168      0      1.0      2   \n",
      "1   53    1   0       140   203    1        0      155      1      3.1      0   \n",
      "2   70    1   0       145   174    0        1      125      1      2.6      0   \n",
      "3   61    1   0       148   203    0        1      161      0      0.0      2   \n",
      "4   62    0   0       138   294    1        1      106      0      1.9      1   \n",
      "\n",
      "   ca  thal  target  \n",
      "0   2     3       0  \n",
      "1   0     3       0  \n",
      "2   0     3       0  \n",
      "3   1     3       0  \n",
      "4   3     2       0  \n",
      "      age  sex  cp  trestbps  chol  fbs  restecg  thalach  exang  oldpeak  \\\n",
      "1020   59    1   1       140   221    0        1      164      1      0.0   \n",
      "1021   60    1   0       125   258    0        0      141      1      2.8   \n",
      "1022   47    1   0       110   275    0        0      118      1      1.0   \n",
      "1023   50    0   0       110   254    0        0      159      0      0.0   \n",
      "1024   54    1   0       120   188    0        1      113      0      1.4   \n",
      "\n",
      "      slope  ca  thal  target  \n",
      "1020      2   0     2       1  \n",
      "1021      1   1     3       0  \n",
      "1022      1   1     2       0  \n",
      "1023      2   0     2       1  \n",
      "1024      1   1     3       0  \n"
     ]
    }
   ],
   "source": [
    "# Printing head and tail\n",
    "print(heartData.head())\n",
    "print(heartData.tail())"
   ]
  },
  {
   "cell_type": "markdown",
   "metadata": {},
   "source": [
    "##### Dataset's Column\n",
    "1. `age`\n",
    "2. `sex` \n",
    "3. `cp` is chest pain type (4 values) \n",
    "4. `trstbps`: resting blood pressure \n",
    "5. `chol` isserum cholestoral in mg/dl\n",
    "6. `fbs` is fsting blood sugar > 120 mg/dl\n",
    "7. `restecg` resting electrocardiographic results (values 0,1,2)\n",
    "8. `thalach` is maximum heart rate achieved\n",
    "9. `exang` is exercise induced angina\n",
    "10. `oldpeak` = ST depression induced by exercise relative to rest\n",
    "11. the `slope` of the peak exercise ST segment\n",
    "12. `ca` is number of major vessels (0-3) colored by flourosopy\n",
    "13. `thal` is The names and social security numbers of the patients were recently removed from the database, replaced with dummy values\n",
    "    - 0 = normal\n",
    "    - 1 = fixed defect\n",
    "    - 2 = reversable defect \n",
    "14. `target` is the result of whether the patient has heart disease (`1`) or not (`0`)"
   ]
  },
  {
   "cell_type": "code",
   "execution_count": 4,
   "metadata": {},
   "outputs": [
    {
     "name": "stdout",
     "output_type": "stream",
     "text": [
      "Index(['age', 'sex', 'cp', 'trestbps', 'chol', 'fbs', 'restecg', 'thalach',\n",
      "       'exang', 'oldpeak', 'slope', 'ca', 'thal', 'target'],\n",
      "      dtype='object')\n"
     ]
    }
   ],
   "source": [
    "# Columns info\n",
    "print(heartData.columns)"
   ]
  },
  {
   "cell_type": "markdown",
   "metadata": {},
   "source": [
    "##### Dataset's Info"
   ]
  },
  {
   "cell_type": "code",
   "execution_count": 5,
   "metadata": {},
   "outputs": [
    {
     "name": "stdout",
     "output_type": "stream",
     "text": [
      "<class 'pandas.core.frame.DataFrame'>\n",
      "RangeIndex: 1025 entries, 0 to 1024\n",
      "Data columns (total 14 columns):\n",
      " #   Column    Non-Null Count  Dtype  \n",
      "---  ------    --------------  -----  \n",
      " 0   age       1025 non-null   int64  \n",
      " 1   sex       1025 non-null   int64  \n",
      " 2   cp        1025 non-null   int64  \n",
      " 3   trestbps  1025 non-null   int64  \n",
      " 4   chol      1025 non-null   int64  \n",
      " 5   fbs       1025 non-null   int64  \n",
      " 6   restecg   1025 non-null   int64  \n",
      " 7   thalach   1025 non-null   int64  \n",
      " 8   exang     1025 non-null   int64  \n",
      " 9   oldpeak   1025 non-null   float64\n",
      " 10  slope     1025 non-null   int64  \n",
      " 11  ca        1025 non-null   int64  \n",
      " 12  thal      1025 non-null   int64  \n",
      " 13  target    1025 non-null   int64  \n",
      "dtypes: float64(1), int64(13)\n",
      "memory usage: 112.2 KB\n"
     ]
    }
   ],
   "source": [
    "heartData.info()"
   ]
  },
  {
   "cell_type": "markdown",
   "metadata": {},
   "source": [
    "As seen on the output above, the dataset got no missing values (null). Additionally, it consists of 1024 rows and 14 columns\n",
    "\n",
    "---"
   ]
  },
  {
   "cell_type": "markdown",
   "metadata": {},
   "source": [
    "### **Step 2: Exploratory Data Analysis**\n",
    "In this step, we will analyze *almost all* columns from the dataset to eventually find the **correlations** from each column towards the `target` column, which is whether the patient is diseased or not."
   ]
  },
  {
   "cell_type": "markdown",
   "metadata": {},
   "source": [
    "#### 1. Heart Disease Target Values"
   ]
  },
  {
   "cell_type": "code",
   "execution_count": 6,
   "metadata": {},
   "outputs": [
    {
     "name": "stdout",
     "output_type": "stream",
     "text": [
      "1    526\n",
      "0    499\n",
      "Name: target, dtype: int64\n"
     ]
    }
   ],
   "source": [
    "# Column: `target`'s values\n",
    "print(heartData.target.value_counts())"
   ]
  },
  {
   "cell_type": "code",
   "execution_count": 25,
   "metadata": {},
   "outputs": [
    {
     "data": {
      "image/png": "[encoded data removed]",
      "text/plain": [
       "<Figure size 216x288 with 1 Axes>"
      ]
     },
     "metadata": {
      "needs_background": "light"
     },
     "output_type": "display_data"
    }
   ],
   "source": [
    "# Target column values in barplot\n",
    "plt.figure(figsize=(3, 4))\n",
    "barplot = sns.barplot(\n",
    "  x = [\"Diseased\", \"Healthy\"],\n",
    "  y = heartData.target.value_counts().values,\n",
    "  palette = pastel\n",
    ")\n",
    "\n",
    "plt.title(\"Patient Condition Ratio in Heart Disease Table\")\n",
    "plt.show()"
   ]
  },
  {
   "cell_type": "code",
   "execution_count": 27,
   "metadata": {},
   "outputs": [
    {
     "data": {
      "image/png": "[encoded data removed]",
      "text/plain": [
       "<Figure size 432x288 with 1 Axes>"
      ]
     },
     "metadata": {},
     "output_type": "display_data"
    }
   ],
   "source": [
    "# Target column values in piechart\n",
    "plt.pie(\n",
    "  heartData.target.value_counts().values,\n",
    "  labels = [\"Diseased\", \"Healthy\"],\n",
    "  colors = pastel,\n",
    "  autopct='%1.1f%%',\n",
    ")\n",
    "\n",
    "plt.title(\"Patient Condition Ratio in Heart Disease Table\")\n",
    "plt.show()"
   ]
  },
  {
   "cell_type": "markdown",
   "metadata": {},
   "source": [
    "From the visualisations above, we can say that roughly half of the people from the dataset got a heart disease"
   ]
  },
  {
   "cell_type": "markdown",
   "metadata": {},
   "source": [
    "#### 2. Age and Sex Factors"
   ]
  },
  {
   "cell_type": "code",
   "execution_count": 23,
   "metadata": {},
   "outputs": [
    {
     "data": {
      "image/png": "[encoded data removed]",
      "text/plain": [
       "<Figure size 432x288 with 1 Axes>"
      ]
     },
     "metadata": {},
     "output_type": "display_data"
    }
   ],
   "source": [
    "# Sex column in pie chart\n",
    "plt.pie(\n",
    "  heartData.sex.value_counts().values,\n",
    "  labels = [\n",
    "    \"Male: {}\".format(heartData.sex.value_counts()[1]),\n",
    "    \"Female: {}\".format(heartData.sex.value_counts()[0])],\n",
    "  colors = pastel,\n",
    "  autopct= '%1.1f%%', #decimals\n",
    ")\n",
    "plt.title(\"Sex Ratio in Heart Disease Table\")\n",
    "\n",
    "plt.show()"
   ]
  },
  {
   "cell_type": "code",
   "execution_count": 36,
   "metadata": {},
   "outputs": [
    {
     "data": {
      "image/png": "[encoded data removed]",
      "text/plain": [
       "<Figure size 432x288 with 1 Axes>"
      ]
     },
     "metadata": {
      "needs_background": "light"
     },
     "output_type": "display_data"
    }
   ],
   "source": [
    "# Sex and target's condition in countplot\n",
    "countplot = sns.countplot(\n",
    "  data = heartData,\n",
    "  x = 'target', #column target,\n",
    "  hue = 'sex', #2nd column (sex),\n",
    "  palette = pastel\n",
    ")\n",
    "\n",
    "countplot.set_xticklabels(['Healthy', 'Diseased'])\n",
    "plt.legend(['Female, Male'])\n",
    "plt.show()"
   ]
  },
  {
   "cell_type": "markdown",
   "metadata": {},
   "source": [
    "According to the countplot above, **female patients** *tends* to have heart disease, despite their populations are lower than the male. This can be observed from the **diseased female** (right side)'s higher growth from their healthy populations. On the other side, the population growth of **healthy male** (left side) is negative towards the **diseased male**"
   ]
  },
  {
   "cell_type": "code",
   "execution_count": 29,
   "metadata": {},
   "outputs": [
    {
     "data": {
      "image/png": "[encoded data removed]",
      "text/plain": [
       "<Figure size 432x288 with 1 Axes>"
      ]
     },
     "metadata": {
      "needs_background": "light"
     },
     "output_type": "display_data"
    }
   ],
   "source": [
    "# Age column in histplot\n",
    "sns.histplot(heartData.age, color=pastel[1])\n",
    "\n",
    "plt.title(\"Patient's Age from Heart Disease Table\")\n",
    "plt.show()"
   ]
  },
  {
   "cell_type": "markdown",
   "metadata": {},
   "source": [
    "From two columns above, we can conclude that:\n",
    "1. **Most patient are male** (almost 70%)\n",
    "2. Most patients **start to show heart disease** symptoms from around **age 40**\n",
    "3. Most patients got heart disease on **age 60**\n",
    "4. **Female patient** *tends* to have heart disease than the **male**"
   ]
  },
  {
   "cell_type": "markdown",
   "metadata": {},
   "source": [
    "#### 3. Chest Pain Types"
   ]
  },
  {
   "cell_type": "code",
   "execution_count": 53,
   "metadata": {},
   "outputs": [
    {
     "data": {
      "image/png": "[encoded data removed]",
      "text/plain": [
       "<Figure size 432x288 with 1 Axes>"
      ]
     },
     "metadata": {
      "needs_background": "light"
     },
     "output_type": "display_data"
    }
   ],
   "source": [
    "# Chest Pain Type Populations\n",
    "sns.barplot(\n",
    "  data = heartData,\n",
    "  x = heartData['cp'].value_counts().index,\n",
    "  y = heartData['cp'].value_counts().values,\n",
    "  palette = 'pastel'\n",
    ")\n",
    "\n",
    "plt.xlabel(\"Chest Pain Type\")\n",
    "plt.ylabel(\"Populations\")\n",
    "plt.title(\"Chest Pain Type Distribution\")\n",
    "plt.show()"
   ]
  },
  {
   "cell_type": "code",
   "execution_count": 83,
   "metadata": {},
   "outputs": [
    {
     "data": {
      "image/png": "[encoded data removed]",
      "text/plain": [
       "<Figure size 432x288 with 1 Axes>"
      ]
     },
     "metadata": {
      "needs_background": "light"
     },
     "output_type": "display_data"
    }
   ],
   "source": [
    "# Target and Chest Pain Comparison\n",
    "countplot = sns.countplot(\n",
    "  data = heartData,\n",
    "  x = 'target',\n",
    "  hue = 'cp',\n",
    "  palette = pastel\n",
    ")\n",
    "\n",
    "countplot.set_xticklabels(['Healthy', 'Diseased'])\n",
    "\n",
    "plt.legend(['CP 0', 'CP 1', 'CP 2', 'CP 3'])\n",
    "plt.title(\"Target and Chest Pain Type Comparison\")\n",
    "plt.show()"
   ]
  },
  {
   "cell_type": "markdown",
   "metadata": {},
   "source": [
    "From the table, it can be found that many **healthy people** got some sort of chest pain. From here, we can observe the effect from each chest type toward whether the patient is diseased or not. As visualized above, the writer combined `target` column with `cp` column to identify:\n",
    "> Which chest pain type that reported most from the **diseased people**?\n",
    "\n",
    "From the countplot above, we can see that `CP 2` or *Chest Pain Type 2* (colored green) is the most reported chest pain type from the **diseased people**"
   ]
  },
  {
   "cell_type": "markdown",
   "metadata": {},
   "source": [
    "#### 4. Resting Blood Pressure (`trestbps`)\n",
    "`trestbps` is calculated in mm/Hg, which normally valued as **120 mm/Hg** in adult"
   ]
  },
  {
   "cell_type": "code",
   "execution_count": 206,
   "metadata": {},
   "outputs": [
    {
     "data": {
      "image/png": "[encoded data removed]",
      "text/plain": [
       "<Figure size 432x288 with 1 Axes>"
      ]
     },
     "metadata": {
      "needs_background": "light"
     },
     "output_type": "display_data"
    }
   ],
   "source": [
    "sns.histplot(\n",
    "  heartData.trestbps,\n",
    "  palette = pastel\n",
    ")\n",
    "\n",
    "plt.xlabel(\"Resting Blood Pressure\")\n",
    "plt.ylabel(\"Population (People)\")\n",
    "plt.title(\"Resting Blood Pressure Distribution\")\n",
    "plt.show()"
   ]
  },
  {
   "cell_type": "markdown",
   "metadata": {},
   "source": [
    "From the histplot above, it can be concluded that the blood pressure of most people in the table is between **120 mmHg - 140 mmHg**"
   ]
  },
  {
   "cell_type": "markdown",
   "metadata": {},
   "source": [
    "#### 5. Serum Cholestrol (`chol`) and Fasting Blood Sugar (`fbs`)\n",
    "Both of this column is grouped by the writer, due to their relatively same nature (which is: *both doesn't seem to be affecting `target` column very much*)\n",
    "- **`chol`**:\n",
    "  - In mg/dL, healthy `chol` is less than 200 mg/dL.\n",
    "  - In the stepped chart below, it's clear that most people from the table got unhealthy `chol` in around 200 - 300 mg/dL, even some reach 400 mg/dL \n",
    "  - But, high `chol` (unhealthy) can be found in **healthy people** *(pointed by some blue bars in the right side)* which means it's not highly affecting the `target` column"
   ]
  },
  {
   "cell_type": "code",
   "execution_count": 194,
   "metadata": {},
   "outputs": [
    {
     "data": {
      "text/plain": [
       "Text(0, 0.5, 'Population (People)')"
      ]
     },
     "execution_count": 194,
     "metadata": {},
     "output_type": "execute_result"
    },
    {
     "data": {
      "image/png": "[encoded data removed]",
      "text/plain": [
       "<Figure size 432x288 with 1 Axes>"
      ]
     },
     "metadata": {
      "needs_background": "light"
     },
     "output_type": "display_data"
    }
   ],
   "source": [
    "countplot = sns.countplot(\n",
    "  data = heartData[0:len(heartData):50],\n",
    "  x = 'chol',\n",
    "  hue = 'target',\n",
    "  palette = pastel\n",
    ")\n",
    "\n",
    "plt.title(\"Serum Cholestrol Distribution\")\n",
    "plt.legend([\"Healthy\", \"Diseased\"])\n",
    "plt.xlabel(\"Cholestrol\")\n",
    "plt.ylabel(\"Population (People)\")"
   ]
  },
  {
   "cell_type": "markdown",
   "metadata": {},
   "source": [
    "- **`fbs`**:\n",
    "  - In the table, if `fbs` less than 120 mg/dL, it will be valued as `1`, otherwise it would be `0`\n",
    "  - From the plot below, it can be seen that both **healthy** and **diseased** people got relatively same `fbs`, so it doesn't seem to affecting the `target` column very much"
   ]
  },
  {
   "cell_type": "code",
   "execution_count": 212,
   "metadata": {},
   "outputs": [
    {
     "data": {
      "text/plain": [
       "Text(0, 0.5, 'Population (People)')"
      ]
     },
     "execution_count": 212,
     "metadata": {},
     "output_type": "execute_result"
    },
    {
     "data": {
      "image/png": "[encoded data removed]",
      "text/plain": [
       "<Figure size 432x288 with 1 Axes>"
      ]
     },
     "metadata": {
      "needs_background": "light"
     },
     "output_type": "display_data"
    }
   ],
   "source": [
    "countplot = sns.countplot(\n",
    "  data = heartData,\n",
    "  x = 'fbs',\n",
    "  hue = 'target',\n",
    "  palette = pastel\n",
    ")\n",
    "\n",
    "plt.title(\"Fasting Blood Sugar Distribution\")\n",
    "plt.legend([\"Healthy\", \"Diseased\"])\n",
    "plt.xlabel(\"Fasting Blood Sugar\")\n",
    "plt.ylabel(\"Population (People)\")"
   ]
  },
  {
   "cell_type": "code",
   "execution_count": 219,
   "metadata": {},
   "outputs": [
    {
     "name": "stdout",
     "output_type": "stream",
     "text": [
      "target      1.000000\n",
      "cp          0.434854\n",
      "thalach     0.422895\n",
      "slope       0.345512\n",
      "restecg     0.134468\n",
      "fbs        -0.041164\n",
      "chol       -0.099966\n",
      "trestbps   -0.138772\n",
      "age        -0.229324\n",
      "sex        -0.279501\n",
      "thal       -0.337838\n",
      "ca         -0.382085\n",
      "exang      -0.438029\n",
      "oldpeak    -0.438441\n",
      "Name: target, dtype: float64\n"
     ]
    }
   ],
   "source": [
    "print(heartData.corr()['target'].sort_values(ascending=False))"
   ]
  }
 ],
 "metadata": {
  "kernelspec": {
   "display_name": "Python 3.10.5 64-bit",
   "language": "python",
   "name": "python3"
  },
  "language_info": {
   "codemirror_mode": {
    "name": "ipython",
    "version": 3
   },
   "file_extension": ".py",
   "mimetype": "text/x-python",
   "name": "python",
   "nbconvert_exporter": "python",
   "pygments_lexer": "ipython3",
   "version": "3.10.5"
  },
  "orig_nbformat": 4,
  "vscode": {
   "interpreter": {
    "hash": "aee8b7b246df8f9039afb4144a1f6fd8d2ca17a180786b69acc140d282b71a49"
   }
  }
 },
 "nbformat": 4,
 "nbformat_minor": 2
}
